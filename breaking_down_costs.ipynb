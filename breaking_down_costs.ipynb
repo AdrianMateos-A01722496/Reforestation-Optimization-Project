{
 "cells": [
  {
   "cell_type": "code",
   "execution_count": 1,
   "metadata": {},
   "outputs": [],
   "source": [
    "import pandas as pd\n",
    "import numpy as np"
   ]
  },
  {
   "cell_type": "code",
   "execution_count": 14,
   "metadata": {},
   "outputs": [
    {
     "data": {
      "text/html": [
       "<div>\n",
       "<style scoped>\n",
       "    .dataframe tbody tr th:only-of-type {\n",
       "        vertical-align: middle;\n",
       "    }\n",
       "\n",
       "    .dataframe tbody tr th {\n",
       "        vertical-align: top;\n",
       "    }\n",
       "\n",
       "    .dataframe thead th {\n",
       "        text-align: right;\n",
       "    }\n",
       "</style>\n",
       "<table border=\"1\" class=\"dataframe\">\n",
       "  <thead>\n",
       "    <tr style=\"text-align: right;\">\n",
       "      <th></th>\n",
       "      <th>1</th>\n",
       "      <th>2</th>\n",
       "      <th>3</th>\n",
       "      <th>4</th>\n",
       "      <th>5</th>\n",
       "      <th>6</th>\n",
       "      <th>7</th>\n",
       "      <th>8</th>\n",
       "      <th>9</th>\n",
       "      <th>10</th>\n",
       "    </tr>\n",
       "  </thead>\n",
       "  <tbody>\n",
       "    <tr>\n",
       "      <th>1</th>\n",
       "      <td>178</td>\n",
       "      <td>848</td>\n",
       "      <td>178</td>\n",
       "      <td>178</td>\n",
       "      <td>211</td>\n",
       "      <td>162</td>\n",
       "      <td>313</td>\n",
       "      <td>275</td>\n",
       "      <td>373</td>\n",
       "      <td>113</td>\n",
       "    </tr>\n",
       "    <tr>\n",
       "      <th>2</th>\n",
       "      <td>248</td>\n",
       "      <td>1181</td>\n",
       "      <td>248</td>\n",
       "      <td>248</td>\n",
       "      <td>293</td>\n",
       "      <td>226</td>\n",
       "      <td>436</td>\n",
       "      <td>384</td>\n",
       "      <td>519</td>\n",
       "      <td>158</td>\n",
       "    </tr>\n",
       "    <tr>\n",
       "      <th>3</th>\n",
       "      <td>264</td>\n",
       "      <td>1256</td>\n",
       "      <td>264</td>\n",
       "      <td>264</td>\n",
       "      <td>312</td>\n",
       "      <td>240</td>\n",
       "      <td>464</td>\n",
       "      <td>408</td>\n",
       "      <td>552</td>\n",
       "      <td>168</td>\n",
       "    </tr>\n",
       "    <tr>\n",
       "      <th>4</th>\n",
       "      <td>264</td>\n",
       "      <td>1256</td>\n",
       "      <td>264</td>\n",
       "      <td>264</td>\n",
       "      <td>312</td>\n",
       "      <td>240</td>\n",
       "      <td>464</td>\n",
       "      <td>408</td>\n",
       "      <td>552</td>\n",
       "      <td>168</td>\n",
       "    </tr>\n",
       "    <tr>\n",
       "      <th>5</th>\n",
       "      <td>249</td>\n",
       "      <td>1187</td>\n",
       "      <td>249</td>\n",
       "      <td>249</td>\n",
       "      <td>295</td>\n",
       "      <td>227</td>\n",
       "      <td>438</td>\n",
       "      <td>386</td>\n",
       "      <td>522</td>\n",
       "      <td>159</td>\n",
       "    </tr>\n",
       "  </tbody>\n",
       "</table>\n",
       "</div>"
      ],
      "text/plain": [
       "    1     2    3    4    5    6    7    8    9    10\n",
       "1  178   848  178  178  211  162  313  275  373  113\n",
       "2  248  1181  248  248  293  226  436  384  519  158\n",
       "3  264  1256  264  264  312  240  464  408  552  168\n",
       "4  264  1256  264  264  312  240  464  408  552  168\n",
       "5  249  1187  249  249  295  227  438  386  522  159"
      ]
     },
     "execution_count": 14,
     "metadata": {},
     "output_type": "execute_result"
    }
   ],
   "source": [
    "demand = pd.read_csv(\"data/encoded_demand.csv\", index_col=0)\n",
    "demand.columns = demand.columns.astype(int)\n",
    "demand.head()"
   ]
  },
  {
   "cell_type": "code",
   "execution_count": 15,
   "metadata": {},
   "outputs": [
    {
     "data": {
      "text/plain": [
       "6019"
      ]
     },
     "execution_count": 15,
     "metadata": {},
     "output_type": "execute_result"
    }
   ],
   "source": [
    "demand[1].sum()"
   ]
  },
  {
   "cell_type": "code",
   "execution_count": 23,
   "metadata": {},
   "outputs": [
    {
     "data": {
      "text/plain": [
       "{1: 6019,\n",
       " 2: 28642,\n",
       " 3: 6019,\n",
       " 4: 6019,\n",
       " 5: 7115,\n",
       " 6: 5472,\n",
       " 7: 10580,\n",
       " 8: 9306,\n",
       " 9: 12587,\n",
       " 10: 3829}"
      ]
     },
     "execution_count": 23,
     "metadata": {},
     "output_type": "execute_result"
    }
   ],
   "source": [
    "total_per_species = {}\n",
    "\n",
    "for col in demand.columns:\n",
    "    total_per_species[col] = demand[col].sum()\n",
    "\n",
    "total_per_species"
   ]
  },
  {
   "cell_type": "code",
   "execution_count": 31,
   "metadata": {},
   "outputs": [
    {
     "name": "stdout",
     "output_type": "stream",
     "text": [
      "Total plants to plant: 95588\n"
     ]
    }
   ],
   "source": [
    "TOTAL_PLANTS = np.sum(list(total_per_species.values()))\n",
    "print(\"Total plants to plant:\", TOTAL_PLANTS)"
   ]
  },
  {
   "cell_type": "code",
   "execution_count": 24,
   "metadata": {},
   "outputs": [],
   "source": [
    "best_prices = {1:26, 2:26, 3:26, 4:25, 5:17, 6:18, 7:17, 8:18, 9:26.5, 10:26}\n",
    "\n",
    "total_price_per_species = {}"
   ]
  },
  {
   "cell_type": "code",
   "execution_count": 25,
   "metadata": {},
   "outputs": [
    {
     "data": {
      "text/plain": [
       "{1: 156494,\n",
       " 2: 744692,\n",
       " 3: 156494,\n",
       " 4: 150475,\n",
       " 5: 120955,\n",
       " 6: 98496,\n",
       " 7: 179860,\n",
       " 8: 167508,\n",
       " 9: 333555.5,\n",
       " 10: 99554}"
      ]
     },
     "execution_count": 25,
     "metadata": {},
     "output_type": "execute_result"
    }
   ],
   "source": [
    "for key, val in total_per_species.items():\n",
    "    total_price_per_species[key] = best_prices[key] * val\n",
    "\n",
    "total_price_per_species"
   ]
  },
  {
   "cell_type": "code",
   "execution_count": 30,
   "metadata": {},
   "outputs": [
    {
     "name": "stdout",
     "output_type": "stream",
     "text": [
      "Total price for plants 2208083.5\n"
     ]
    }
   ],
   "source": [
    "print (\"Total price for plants\",np.sum(list(total_price_per_species.values())))"
   ]
  },
  {
   "cell_type": "code",
   "execution_count": 32,
   "metadata": {},
   "outputs": [
    {
     "name": "stdout",
     "output_type": "stream",
     "text": [
      "Price for transporting every plant: 53768.25\n"
     ]
    }
   ],
   "source": [
    "TRANSPORT_COST_PER_PLANT = 0.5625\n",
    "print(\"Price for transporting every plant:\", TOTAL_PLANTS * TRANSPORT_COST_PER_PLANT)"
   ]
  },
  {
   "cell_type": "code",
   "execution_count": 33,
   "metadata": {},
   "outputs": [
    {
     "name": "stdout",
     "output_type": "stream",
     "text": [
      "Price for planting every plant: 1911760.0\n"
     ]
    }
   ],
   "source": [
    "PLANTATION_COST_PER_PLANT = 20.0\n",
    "print(\"Price for planting every plant:\", TOTAL_PLANTS * PLANTATION_COST_PER_PLANT)"
   ]
  },
  {
   "cell_type": "code",
   "execution_count": 34,
   "metadata": {},
   "outputs": [
    {
     "data": {
      "text/plain": [
       "4173611.75"
      ]
     },
     "execution_count": 34,
     "metadata": {},
     "output_type": "execute_result"
    }
   ],
   "source": [
    "2208083.5 + 53768.25 + 1911760.0"
   ]
  }
 ],
 "metadata": {
  "kernelspec": {
   "display_name": "tecmx",
   "language": "python",
   "name": "python3"
  },
  "language_info": {
   "codemirror_mode": {
    "name": "ipython",
    "version": 3
   },
   "file_extension": ".py",
   "mimetype": "text/x-python",
   "name": "python",
   "nbconvert_exporter": "python",
   "pygments_lexer": "ipython3",
   "version": "3.12.2"
  }
 },
 "nbformat": 4,
 "nbformat_minor": 2
}
